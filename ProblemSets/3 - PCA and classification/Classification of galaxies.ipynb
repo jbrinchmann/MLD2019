{
 "cells": [
  {
   "cell_type": "markdown",
   "metadata": {},
   "source": [
    "# Galaxy morphology from rest-frame colours\n",
    "\n",
    "In this task you will use machine learning in Python to assign morphological classes to galaxies. We will do this by constructing the appropriate likelihoods. This is a powerful, and theoretically optimal, way to classify samples.\n",
    "\n",
    "The aim here is to first classify into two classes which for simplicty I will call elliptical and spiral. To be concrete I adopt a convention where write the classes as ${\\omega_i}$. The elliptical class then becomes $\\omega_0$  and the spiral classs $\\omega_2$.\n",
    "\n",
    "We now need to determine $p(g-r|\\omega_0)$ and $p(g-r|\\omega_1)$. If we assume the two classes are equally likely we can use Bayes theorem to write\n",
    "\n",
    "$$p(\\omega_0|g-r) \\propto p(g-r|\\omega_0)$$\n",
    "\n",
    "which is what we need to classify our galaxies.\n"
   ]
  },
  {
   "cell_type": "markdown",
   "metadata": {},
   "source": [
    "## Deciding on what we need to use\n",
    "\n",
    "We want to model the class likelihoods in a non-parameteric way here. This means estimating them for instance using Kernel density estimation, k-nearest neighbour estimation, or Gaussian Mixture Modeling.\n",
    "\n",
    "For the first part of the problem we will use Kernel Density Estimation. So we need to input this along with a few other useful packages."
   ]
  },
  {
   "cell_type": "code",
   "execution_count": 3,
   "metadata": {
    "ExecuteTime": {
     "end_time": "2019-04-03T18:35:32.447218Z",
     "start_time": "2019-04-03T18:35:32.432627Z"
    }
   },
   "outputs": [],
   "source": [
    "# These should be obvious now\n",
    "from astropy.io import fits\n",
    "import matplotlib.pyplot as plt\n",
    "import numpy as np\n",
    "from astroML.plotting import hist\n",
    "\n",
    "# For Kernel density estimation\n",
    "from sklearn.neighbors import KernelDensity\n",
    "# Not a particularly crucial routine - it provides a quick way to split a sample into\n",
    "# a training and test sample.\n",
    "from sklearn.model_selection import train_test_split\n",
    "\n",
    "\n",
    "# Finally, since this is a Jupyter/IPython notebook, I want inline\n",
    "# graphics.\n",
    "%matplotlib inline"
   ]
  },
  {
   "cell_type": "markdown",
   "metadata": {},
   "source": [
    "## Input of data and data manipulation\n",
    "\n",
    "A key challenge in any data mining/machine learning program is to decide what to include in the modeling - the feature extraction. Here the main feature is the $g-r$ colour of the objects so we do not need to worry about that.\n",
    "\n",
    "However we also need to consider the data that we will want to use to model our class likelihood. First I need a routine to load my datafile. But I also include the two simple pickling routines we have seen earlier in case you want to use those later."
   ]
  },
  {
   "cell_type": "code",
   "execution_count": 5,
   "metadata": {
    "ExecuteTime": {
     "end_time": "2019-04-03T18:35:40.030037Z",
     "start_time": "2019-04-03T18:35:40.026286Z"
    }
   },
   "outputs": [],
   "source": [
    "def read_morphology_catalogue():\n",
    "    \"\"\"\n",
    "    Get the Nair & Abraham morphology catalogue in the modified form\n",
    "    including absolute magnitudes and simple classification created\n",
    "    by the DDM11_MORPH_CREATE_SIMPLE_DATAFILE IDL routine.\n",
    "    \n",
    "    You need to modify this routine to find the file below.\n",
    "    \n",
    "    \"\"\"\n",
    "    if all:\n",
    "        suff = '-all'\n",
    "    else:\n",
    "        suff = ''\n",
    "       \n",
    "    # ADJUST THIS LOCATION IF NECESSARY!!\n",
    "    fname = '../../Datafiles/Nair-Abraham-2010-edited-for-class.fits'\n",
    "    hdul = fits.open(fname)\n",
    "    t = hdul[1].data\n",
    "    hdul.close()\n",
    "\n",
    "    return t\n"
   ]
  },
  {
   "cell_type": "code",
   "execution_count": 6,
   "metadata": {
    "ExecuteTime": {
     "end_time": "2019-04-03T18:35:41.003461Z",
     "start_time": "2019-04-03T18:35:40.847909Z"
    }
   },
   "outputs": [],
   "source": [
    "t = read_morphology_catalogue()"
   ]
  },
  {
   "cell_type": "markdown",
   "metadata": {},
   "source": [
    "### Labelling of the galaxies\n",
    "\n",
    "The current catalogue has a finely graded morphological classification using T-types. The aim here is however to be coarses and just classify galaxies into spirals and ellipticals - thus the fine-grained information in T-types is overkill. This is therefore a simple routine that labels the galaxies so that ellipticals have class 0 and spirals 1 - galaxies that do not fall into either of these two classes will have class = -1."
   ]
  },
  {
   "cell_type": "code",
   "execution_count": 7,
   "metadata": {
    "ExecuteTime": {
     "end_time": "2019-04-03T18:35:43.317157Z",
     "start_time": "2019-04-03T18:35:43.311677Z"
    }
   },
   "outputs": [],
   "source": [
    "def create_label(t, ellipticals=(-10, 4), spirals=(4, 10)):\n",
    "    \"\"\"\n",
    "    Create a simple label for the elliptical, spiral classes based\n",
    "    on the galaxy T-type.\n",
    "\n",
    "    Input:\n",
    "    ------\n",
    "       t: A table with T-types (in table element T_TYPE). The format is\n",
    "          expected to be that returned by read_morphology_catalogue, but \n",
    "          any dictionary-like object with T_TYPE would work.\n",
    "          \n",
    "     ellipticals: A tuple giving the range of T-types to map to the elliptical class\n",
    "                  Default: (-10, 4)\n",
    "         spirals: The same as ellipticals, but now for spiral galaxies.\n",
    "                  Default: (4, 10)\n",
    "\n",
    "    Output:\n",
    "    -------\n",
    "    The routine returns an integer array with the same number\n",
    "    of elements as T_TYPE. For ellipticals the value is 0 and\n",
    "    for spirals the value is 1. For galaxies where no classification\n",
    "    is made the label is -1.\n",
    "    \"\"\"\n",
    "\n",
    "    ttype = t['T_TYPE']\n",
    "    label = np.zeros(len(ttype), int)-1\n",
    "\n",
    "    is_e = np.where((ttype >= ellipticals[0]) &\n",
    "                    (ttype <= ellipticals[1]))\n",
    "    is_s = np.where((ttype >= spirals[0]) &\n",
    "                    (ttype <= spirals[1]))\n",
    "\n",
    "    label[is_e] = 0\n",
    "    label[is_s] = 1\n",
    "\n",
    "    return label   "
   ]
  },
  {
   "cell_type": "code",
   "execution_count": 8,
   "metadata": {
    "ExecuteTime": {
     "end_time": "2019-04-03T18:35:44.505636Z",
     "start_time": "2019-04-03T18:35:44.501303Z"
    }
   },
   "outputs": [],
   "source": [
    "label = create_label(t)"
   ]
  },
  {
   "cell_type": "code",
   "execution_count": 9,
   "metadata": {
    "ExecuteTime": {
     "end_time": "2019-04-03T18:35:45.554446Z",
     "start_time": "2019-04-03T18:35:45.368085Z"
    }
   },
   "outputs": [
    {
     "data": {
      "text/plain": [
       "Text(0.5, 0, 'Class')"
      ]
     },
     "execution_count": 9,
     "metadata": {},
     "output_type": "execute_result"
    },
    {
     "data": {
      "image/png": "[encoded data removed]",
      "text/plain": [
       "<Figure size 432x288 with 1 Axes>"
      ]
     },
     "metadata": {
      "needs_background": "light"
     },
     "output_type": "display_data"
    }
   ],
   "source": [
    "h = plt.hist(label, histtype='bar')\n",
    "plt.xlabel('Class')"
   ]
  },
  {
   "cell_type": "markdown",
   "metadata": {},
   "source": [
    "Next, I would like to tidy things up a bit. Thus this routine loads the table, classifies the galaxies _and throws out the unclassified galaxies_."
   ]
  },
  {
   "cell_type": "code",
   "execution_count": 10,
   "metadata": {
    "ExecuteTime": {
     "end_time": "2019-04-03T18:35:50.964530Z",
     "start_time": "2019-04-03T18:35:50.959524Z"
    }
   },
   "outputs": [],
   "source": [
    "def prepare_data():\n",
    "    \"\"\"\n",
    "    Load the table of galaxies and keep only ellipticals and spirals. \n",
    "    \"\"\"\n",
    "\n",
    "    t = read_morphology_catalogue()\n",
    "    # Use default settings\n",
    "    label = create_label(t)\n",
    "\n",
    "    # Extract only ellipticals and spirals\n",
    "    use = np.where((label >= 0) & (t['GR_REST'] > -1) & \n",
    "                   (t['GR_REST'] < 3.5) & (np.isfinite(t['GR_REST'])))\n",
    "    t = t[use]\n",
    "    label = label[use]\n",
    "\n",
    "    return t, label\n",
    "    "
   ]
  },
  {
   "cell_type": "code",
   "execution_count": 11,
   "metadata": {
    "ExecuteTime": {
     "end_time": "2019-04-03T18:35:51.878175Z",
     "start_time": "2019-04-03T18:35:51.836820Z"
    }
   },
   "outputs": [
    {
     "name": "stderr",
     "output_type": "stream",
     "text": [
      "/Users/jarle/anaconda3/lib/python3.6/site-packages/ipykernel_launcher.py:12: RuntimeWarning: invalid value encountered in greater\n",
      "  if sys.path[0] == '':\n",
      "/Users/jarle/anaconda3/lib/python3.6/site-packages/ipykernel_launcher.py:12: RuntimeWarning: invalid value encountered in less\n",
      "  if sys.path[0] == '':\n"
     ]
    }
   ],
   "source": [
    "t, label = prepare_data()"
   ]
  },
  {
   "cell_type": "markdown",
   "metadata": {},
   "source": [
    "To illustrate the data - and what we will do below, it is perhaps useful to see a poorly documented function that creates a plot more or less like the one I showed in the lecture:"
   ]
  },
  {
   "cell_type": "code",
   "execution_count": 12,
   "metadata": {
    "ExecuteTime": {
     "end_time": "2019-04-03T18:35:55.908915Z",
     "start_time": "2019-04-03T18:35:55.898707Z"
    }
   },
   "outputs": [],
   "source": [
    "def show_colour_class(t, N=500, include_kde=True):\n",
    "    \"\"\"\n",
    "Show a plot illustrating the classes and their colours. This creates\n",
    "a plot with two panels. The top panel will show a histogram of the g-r\n",
    "colours and the bottom will show the actual points.\n",
    "\n",
    "If include_kde is set to true then a KDE estimate is plotted on top\n",
    "of the histograms.\n",
    "    \"\"\"\n",
    "\n",
    "\n",
    "    ax_top = plt.subplot(211)\n",
    "    ax_bottom = plt.subplot(212, sharex=ax_top)\n",
    "    plt.setp( ax_top.get_xticklabels(), visible=False)\n",
    "    plt.subplots_adjust(hspace=0)\n",
    "\n",
    "    # Find all spirals and ellipticals.\n",
    "    is_e, = np.where((t['T_TYPE'] >= -10) & (t['T_TYPE'] <= -4))\n",
    "    is_s, = np.where((t['T_TYPE'] >= 4) & (t['T_TYPE'] <= 10))\n",
    "\n",
    "    # Get the first N.\n",
    "    is_e = is_e[0:N]\n",
    "    is_s = is_s[0:N]\n",
    "\n",
    "    gr_s = t['GR_REST'][is_s]\n",
    "    gr_e = t['GR_REST'][is_e]\n",
    "    y = np.arange(N)\n",
    " \n",
    "    # Now plot the scatter plot.\n",
    "    ax_bottom.scatter(gr_s, y, c='b')\n",
    "    ax_bottom.scatter(gr_e, y, c='r')\n",
    "    ax_bottom.set_xlim(0, 1.1)\n",
    "\n",
    "\n",
    "    # Then the histogram\n",
    "    hist(gr_s, bins=50, range=(0, 1.2), ax=ax_top, \n",
    "         histtype='step', color='b', normed=True)\n",
    "    hist(gr_e, bins=50, range=(0, 1.2), ax=ax_top, \n",
    "         histtype='step', color='r', normed=True)\n",
    "\n",
    "    # Finally create the kernel density estimate\n",
    "    kde_s = KernelDensity(0.025, kernel='gaussian').fit(gr_s[:, np.newaxis])\n",
    "    kde_e = KernelDensity(0.025, kernel='gaussian').fit(gr_e[:, np.newaxis])\n",
    "\n",
    "    gr_plot = np.linspace(0, 1.2, 1000)\n",
    "    ln_h_s = kde_s.score_samples(gr_plot[:,np.newaxis])\n",
    "    ln_h_e = kde_e.score_samples(gr_plot[:,np.newaxis])\n",
    "    h_s = np.exp(ln_h_s)\n",
    "    h_e = np.exp(ln_h_e)\n",
    "    \n",
    "    ax_top.plot(gr_plot, h_s, color='#000099')\n",
    "    ax_top.plot(gr_plot, h_e, color='#990000')\n",
    "    ax_bottom.set_ylim([-50, 590])\n",
    "\n",
    "    plt.show()\n"
   ]
  },
  {
   "cell_type": "code",
   "execution_count": 13,
   "metadata": {
    "ExecuteTime": {
     "end_time": "2019-04-03T18:35:57.851285Z",
     "start_time": "2019-04-03T18:35:57.607791Z"
    }
   },
   "outputs": [
    {
     "name": "stderr",
     "output_type": "stream",
     "text": [
      "WARNING: AstroMLDeprecationWarning: The hist function is deprecated and may be removed in a future version.\n",
      "        Use astropy.visualization.hist instead. [__main__]\n",
      "/Users/jarle/anaconda3/lib/python3.6/site-packages/matplotlib/axes/_axes.py:6521: MatplotlibDeprecationWarning: \n",
      "The 'normed' kwarg was deprecated in Matplotlib 2.1 and will be removed in 3.1. Use 'density' instead.\n",
      "  alternative=\"'density'\", removal=\"3.1\")\n",
      "WARNING: AstroMLDeprecationWarning: The hist function is deprecated and may be removed in a future version.\n",
      "        Use astropy.visualization.hist instead. [__main__]\n"
     ]
    },
    {
     "data": {
      "image/png": "[encoded data removed]",
      "text/plain": [
       "<Figure size 432x288 with 2 Axes>"
      ]
     },
     "metadata": {
      "needs_background": "light"
     },
     "output_type": "display_data"
    }
   ],
   "source": [
    "show_colour_class(t)"
   ]
  },
  {
   "cell_type": "markdown",
   "metadata": {},
   "source": [
    "## Classification\n",
    "\n",
    "We are now ready to carry out the classification of the data. This is achieved by the following function:"
   ]
  },
  {
   "cell_type": "code",
   "execution_count": 14,
   "metadata": {
    "ExecuteTime": {
     "end_time": "2019-04-03T18:36:01.236685Z",
     "start_time": "2019-04-03T18:36:01.230366Z"
    }
   },
   "outputs": [],
   "source": [
    "def derive_p_class(t, label=None, ellipticals=(-10, 4), spirals=(4, 10),\\\n",
    "                    bw_spiral=0.025, bw_elliptical=0.025):\n",
    "    \"\"\"\n",
    " Given the table and a set of indices of the training sample, \n",
    " calculate the likelihood distribution p(g-r|class)\n",
    "\n",
    "    Input:\n",
    "    ------\n",
    "    t: A table such as that returned by the read_morphology_catalogue routine\n",
    " label: The class label of each galaxy in t. If None, this is derived by calling create_label.\n",
    " ellipticals: See create_label\n",
    " spirals:     See create_label\n",
    "\n",
    " bw_spiral: The band-width of the kernel used to estimate p(g-r|class) for spirals.\n",
    " bw_elliptical: The band-width for p(g-r|class) for ellipticals.\n",
    " \n",
    "    Output:\n",
    "    -------\n",
    "    \n",
    "    The kernel density for p(g-r|spiral) and p(g-r|elliptical). These are created \n",
    "    using KernelDensity in sklearn and the can be called as we have done in the past.\n",
    "    \"\"\"\n",
    "\n",
    "    # Classify galaxies if needed.\n",
    "    if label is None:\n",
    "        label = create_label(t, ellipticals=ellipticals, spirals=spirals)\n",
    "\n",
    "    # Get the feature(s) for the sample\n",
    "    gr = t['GR_REST']\n",
    "\n",
    "    # Then find the spirals and ellipticals.\n",
    "    is_s = np.where(label == 1)\n",
    "    is_e = np.where(label == 0)\n",
    "\n",
    "    # Get the colours of the spirals and ellipticals.\n",
    "    gr_s = gr[is_s]\n",
    "    gr_e = gr[is_e]\n",
    "    \n",
    "    # Create the kernel density estimates\n",
    "    kde_s = KernelDensity(bw_spiral, kernel='gaussian').fit(gr_s[:, np.newaxis])\n",
    "    kde_e = KernelDensity(bw_elliptical, kernel='gaussian').fit(gr_e[:, np.newaxis])\n",
    "\n",
    "    return kde_s, kde_e\n"
   ]
  },
  {
   "cell_type": "code",
   "execution_count": 15,
   "metadata": {
    "ExecuteTime": {
     "end_time": "2019-04-03T18:36:02.365803Z",
     "start_time": "2019-04-03T18:36:02.357126Z"
    }
   },
   "outputs": [],
   "source": [
    "kde_s, kde_e = derive_p_class(t, label)"
   ]
  },
  {
   "cell_type": "markdown",
   "metadata": {},
   "source": [
    "## Creating a test and training sample.\n",
    "\n",
    "The final utility that is worth showing you before you get on with your problem is to show how one can easily create a test and training sample. To do this here I chose to create an index array with the length of the full table and then call the `train_test_split` function on this to create an index array for the training and test samples (see the documentation for `train_test_split` to see what you are actually doing here!). There are of course other ways to do this. \n",
    "\n",
    "The result here is that the `train` and `test` variables will each contain a table like `t`."
   ]
  },
  {
   "cell_type": "code",
   "execution_count": 16,
   "metadata": {
    "ExecuteTime": {
     "end_time": "2019-04-03T18:36:03.730389Z",
     "start_time": "2019-04-03T18:36:03.695371Z"
    }
   },
   "outputs": [],
   "source": [
    "inds = np.arange(len(t))\n",
    "i_train, i_test = train_test_split(inds)\n",
    "train = t[i_train]\n",
    "test = t[i_test]"
   ]
  },
  {
   "cell_type": "markdown",
   "metadata": {},
   "source": [
    "# Your tasks\n",
    "\n",
    "Ok, that is enough for starting out. Now try to use the above to do the following:\n",
    "\n",
    " 1. Classify the sample of galaxies and calculate the mis-classification rate for spirals and ellipticals (see the lecture notes for the definition of mis-classification rate).\n",
    " 2. Does the mis-classification rate depend on the band-width? Could you use this to determine the band-width?\n",
    " 3. Classify the galaxies using a Gaussian Mixture Model instead. *Hint: you might want to modify the `derive_p_class` function.*"
   ]
  },
  {
   "cell_type": "code",
   "execution_count": null,
   "metadata": {
    "collapsed": true
   },
   "outputs": [],
   "source": []
  }
 ],
 "metadata": {
  "kernelspec": {
   "display_name": "Python 3",
   "language": "python",
   "name": "python3"
  },
  "language_info": {
   "codemirror_mode": {
    "name": "ipython",
    "version": 3
   },
   "file_extension": ".py",
   "mimetype": "text/x-python",
   "name": "python",
   "nbconvert_exporter": "python",
   "pygments_lexer": "ipython3",
   "version": "3.6.7"
  },
  "varInspector": {
   "cols": {
    "lenName": 16,
    "lenType": 16,
    "lenVar": 40
   },
   "kernels_config": {
    "python": {
     "delete_cmd_postfix": "",
     "delete_cmd_prefix": "del ",
     "library": "var_list.py",
     "varRefreshCmd": "print(var_dic_list())"
    },
    "r": {
     "delete_cmd_postfix": ") ",
     "delete_cmd_prefix": "rm(",
     "library": "var_list.r",
     "varRefreshCmd": "cat(var_dic_list()) "
    }
   },
   "types_to_exclude": [
    "module",
    "function",
    "builtin_function_or_method",
    "instance",
    "_Feature"
   ],
   "window_display": false
  }
 },
 "nbformat": 4,
 "nbformat_minor": 1
}
