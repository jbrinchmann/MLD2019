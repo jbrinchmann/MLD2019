{
 "cells": [
  {
   "cell_type": "markdown",
   "metadata": {},
   "source": [
    "# PCA of white dwarf spectra\n",
    "\n",
    "We will use the library of white dwarf spectra from Pierre Bergeron. The origin is http://www.astro.umontreal.ca/~bergeron/CoolingModels/.  The first functions here read the spectra from this sample in.\n",
    "\n",
    "To make this work you need to do two steps:\n",
    "\n",
    "- Get the Datafiles/white-dwarfs.tar.gz file and unpack this in some location on your machine. \n",
    "- Modify the `load_one_wd_spectrum` function below so that `ROOT` gives the directory where you have unpacked the white dwarf files (including the WhiteDwarfs directory).\n",
    "\n",
    "Note that the loading function does take a bit of time.\n"
   ]
  },
  {
   "cell_type": "code",
   "execution_count": 1,
   "metadata": {
    "ExecuteTime": {
     "end_time": "2019-04-03T17:34:39.369499Z",
     "start_time": "2019-04-03T17:34:37.468992Z"
    }
   },
   "outputs": [],
   "source": [
    "from __future__ import print_function\n",
    "import numpy as np\n",
    "import matplotlib.pyplot as plt\n",
    "from astropy.table import Table\n",
    "import pandas as pd\n",
    "import seaborn as sns\n",
    "import glob\n",
    "\n",
    "%matplotlib inline"
   ]
  },
  {
   "cell_type": "code",
   "execution_count": 8,
   "metadata": {
    "ExecuteTime": {
     "end_time": "2019-04-03T17:41:18.845078Z",
     "start_time": "2019-04-03T17:41:18.834442Z"
    }
   },
   "outputs": [],
   "source": [
    "def load_one_wd_spectrum(logg, T, silent=False):\n",
    "    \"\"\"Load one WD spectrum\n",
    "    \n",
    "    logg: The log surface gravity of the white dwarf\n",
    "    T: The temperature to read in.\n",
    "    silent: If set to True, a failure to find a file will just return in\n",
    "            a return value of None, no message is printed out.\n",
    "            \n",
    "    Return: A dictionary with two keys: Wavelength and Flux. The wavelength is in Angstrom.\n",
    "    \n",
    "    \"\"\"\n",
    "    # This location needs to be changed if you want to use this on your own machine.\n",
    "    # You then need also to copy the files from this directory.\n",
    "    # Alternatively, data is at ftp://ftp.strw.leidenuniv.nl/pub/apmechev/WD_DBDM/. \n",
    "    ROOT = '/Users/jarle/Teaching/WhiteDwarfs/'\n",
    "    \n",
    "    pattern = ROOT+\"bergeron_He_*_{0:2d}.dat_{1:d}\".format(np.int(10*logg), np.int(T))\n",
    "    \n",
    "    files = glob.glob(pattern)\n",
    "    try:\n",
    "        fname = files[0]\n",
    "    except:\n",
    "        if not silent:\n",
    "            print(\"I did not find anything corresponding to logg={0:.1f}, T={1}\".format(logg, T))\n",
    "        fname = None\n",
    "    \n",
    "    if fname is None:\n",
    "        t = None\n",
    "    else:\n",
    "        tall = Table().read(fname, format='ascii', header_start=1,\n",
    "                         names=('Wavelength', 'Flux'))\n",
    "        tall['Wavelength'] = tall['Wavelength']*10 # Convert to AA\n",
    "        # I only extract the UV-optical region.\n",
    "        t = tall[(tall['Wavelength'] > 900) & (tall['Wavelength'] < 1e4) ]\n",
    "        \n",
    "    return t\n",
    "    \n",
    "def assemble_library():\n",
    "    \"\"\"\n",
    "    Assemble the library of White dwarf spectra.\n",
    "    \n",
    "    Returns a tuple with the wavelength in Ångström, the flux, the logg and T.\n",
    "    \"\"\"\n",
    "    # Extracted from file names with:\n",
    "    # ls bergeron_He_* | perl -ane '{($logg, $T) = ($_ =~ m/bergeron_He_[0-9]+_([0-9]+)\\.dat_([0-9]+)/); print $logg, \"\\n\";}' | sort | uniq\n",
    "    # and similar for the temperature\n",
    "    loggs = [7.0, 7.5, 8.0, 8.5, 9.0]\n",
    "    \n",
    "    Ts = Table().read('../../Datafiles/uniq.Ts', names=('T'), format='ascii',\n",
    "                      data_start=0, )\n",
    "    \n",
    "    n_logg = len(loggs)\n",
    "    n_T = len(Ts)\n",
    "    n_tot = n_T*n_logg\n",
    "    counter = 0\n",
    "    first = True\n",
    "    logg_vec = np.zeros(n_tot)\n",
    "    T_vec = np.zeros(n_tot)\n",
    "    for i_g, logg in enumerate(loggs):\n",
    "        for i_T, row in enumerate(Ts):\n",
    "            T = row['T']\n",
    "            sp = load_one_wd_spectrum(logg, np.float(T), silent=True)\n",
    "            if first:\n",
    "                spec = np.zeros((len(sp['Wavelength']), n_tot))\n",
    "                first = False\n",
    "                wave = sp['Wavelength']\n",
    "                \n",
    "            if sp is None:\n",
    "                # Some combinations of temperature and logg do not exist\n",
    "                n_tot = n_tot-1 \n",
    "                continue\n",
    "                \n",
    "            logg_vec[counter] = logg\n",
    "            T_vec[counter] = T\n",
    "            spec[:, counter] = sp['Flux']\n",
    "            counter = counter+1\n",
    "            \n",
    "    return wave, spec[:, 0:n_tot].T, logg_vec[0:n_tot], T_vec[0:n_tot]\n",
    "                \n",
    "    \n",
    "    "
   ]
  },
  {
   "cell_type": "code",
   "execution_count": 9,
   "metadata": {
    "ExecuteTime": {
     "end_time": "2019-04-03T17:41:32.266624Z",
     "start_time": "2019-04-03T17:41:18.859031Z"
    }
   },
   "outputs": [],
   "source": [
    "l, f, logg, T = assemble_library()"
   ]
  },
  {
   "cell_type": "code",
   "execution_count": 11,
   "metadata": {
    "ExecuteTime": {
     "end_time": "2019-04-03T17:42:25.373914Z",
     "start_time": "2019-04-03T17:42:25.369285Z"
    }
   },
   "outputs": [
    {
     "data": {
      "text/plain": [
       "((1807,), (530, 1807), (530,), (530,))"
      ]
     },
     "execution_count": 11,
     "metadata": {},
     "output_type": "execute_result"
    }
   ],
   "source": [
    "# It can be useful to see the size of these variables.\n",
    "l.shape, f.shape, logg.shape, T.shape"
   ]
  },
  {
   "cell_type": "markdown",
   "metadata": {},
   "source": [
    "## Do PCA transform of the spectra\n",
    "\n",
    "We are now going to do a PCA transform of the spectra. (Well below I also import NMF which you can try instead if you prefer)."
   ]
  },
  {
   "cell_type": "code",
   "execution_count": 12,
   "metadata": {
    "ExecuteTime": {
     "end_time": "2019-04-03T17:42:30.105582Z",
     "start_time": "2019-04-03T17:42:29.485945Z"
    }
   },
   "outputs": [],
   "source": [
    "from sklearn.decomposition import NMF\n",
    "from sklearn.decomposition import PCA"
   ]
  },
  {
   "cell_type": "markdown",
   "metadata": {},
   "source": [
    "### a) Visualisation\n",
    "\n",
    "Before this it is useful to get some feeling for the data. This calculates the mean spectrum and shows a set of spectra. There are no units, no x/y-labels - just a plot to see what is going on. \n",
    "\n",
    "Modify the plot to make it larger and add a legend with the temperature of each model."
   ]
  },
  {
   "cell_type": "code",
   "execution_count": 13,
   "metadata": {
    "ExecuteTime": {
     "end_time": "2019-04-03T17:42:31.494321Z",
     "start_time": "2019-04-03T17:42:31.490554Z"
    }
   },
   "outputs": [],
   "source": [
    "spec_mean = f.mean(0)"
   ]
  },
  {
   "cell_type": "code",
   "execution_count": 16,
   "metadata": {
    "ExecuteTime": {
     "end_time": "2019-04-03T17:42:58.447370Z",
     "start_time": "2019-04-03T17:42:58.008141Z"
    }
   },
   "outputs": [
    {
     "data": {
      "text/plain": [
       "Text(0, 0.5, 'Flux')"
      ]
     },
     "execution_count": 16,
     "metadata": {},
     "output_type": "execute_result"
    },
    {
     "data": {
      "image/png": "[encoded data removed]",
      "text/plain": [
       "<Figure size 432x288 with 1 Axes>"
      ]
     },
     "metadata": {
      "needs_background": "light"
     },
     "output_type": "display_data"
    }
   ],
   "source": [
    "tmp = plt.loglog(l, f[0:530:50, :].T)\n",
    "plt.xlabel('Wavelength [A]')\n",
    "plt.ylabel('Flux')"
   ]
  },
  {
   "cell_type": "markdown",
   "metadata": {},
   "source": [
    "### b) Start the PCA transformation.\n",
    "\n",
    "The code below creates a PCA transformation of the spectra and does the basic look at the data. Your task is to determine how many components you need in order to reconstruct a spectrum to a certain precision, but along the way there are a couple of other tasks to do, listed below."
   ]
  },
  {
   "cell_type": "code",
   "execution_count": 17,
   "metadata": {
    "ExecuteTime": {
     "end_time": "2019-04-03T17:43:01.892300Z",
     "start_time": "2019-04-03T17:43:01.889586Z"
    }
   },
   "outputs": [],
   "source": [
    "pca = PCA(n_components=10, whiten=True)"
   ]
  },
  {
   "cell_type": "markdown",
   "metadata": {},
   "source": [
    "Do the PCA - you can experiment with subtracting off the mean, here I do not."
   ]
  },
  {
   "cell_type": "code",
   "execution_count": 18,
   "metadata": {
    "ExecuteTime": {
     "end_time": "2019-04-03T17:43:04.200679Z",
     "start_time": "2019-04-03T17:43:04.104625Z"
    }
   },
   "outputs": [
    {
     "data": {
      "text/plain": [
       "PCA(copy=True, iterated_power='auto', n_components=10, random_state=None,\n",
       "  svd_solver='auto', tol=0.0, whiten=True)"
      ]
     },
     "execution_count": 18,
     "metadata": {},
     "output_type": "execute_result"
    }
   ],
   "source": [
    "pca.fit(f)"
   ]
  },
  {
   "cell_type": "markdown",
   "metadata": {},
   "source": [
    "and then look at the explained variance - a lot in only one PCA - why is that?"
   ]
  },
  {
   "cell_type": "code",
   "execution_count": 19,
   "metadata": {
    "ExecuteTime": {
     "end_time": "2019-04-03T17:43:07.030079Z",
     "start_time": "2019-04-03T17:43:06.883206Z"
    }
   },
   "outputs": [
    {
     "data": {
      "text/plain": [
       "<BarContainer object of 10 artists>"
      ]
     },
     "execution_count": 19,
     "metadata": {},
     "output_type": "execute_result"
    },
    {
     "data": {
      "image/png": "[encoded data removed]",
      "text/plain": [
       "<Figure size 432x288 with 1 Axes>"
      ]
     },
     "metadata": {
      "needs_background": "light"
     },
     "output_type": "display_data"
    }
   ],
   "source": [
    "plt.bar(np.arange(len(pca.explained_variance_ratio_)), pca.explained_variance_ratio_)"
   ]
  },
  {
   "cell_type": "markdown",
   "metadata": {},
   "source": [
    "Now we calculate the individual principal components. \n",
    "\n",
    "**Task**: Show the first three eigenvectors (eigenspectra is what we normally call this in the literature)."
   ]
  },
  {
   "cell_type": "markdown",
   "metadata": {},
   "source": [
    "**Task**: Plot the first five principal components in a pair plot or similar and colour the symbols with the log g. Repeat this and do it coloured by T. \n",
    "\n",
    "*Hint: Creating a data frame with the PCs and log g/T values might be a good approach. I used this and a call of the form sns.pairplot(dft, hue='logg', vars=('PC1', 'PC2', 'PC3', 'PC4')) for one plot. *"
   ]
  },
  {
   "cell_type": "markdown",
   "metadata": {},
   "source": [
    "**Task**: Now, reconstruct a spectrum using the principal components and compare this to the input spectrum. If you subtracted the mean spectrum, do not forget to add it back in! *Hint: make sure to use the inverse transform*. Compare these and use this to decide how to determine the number of components to keep."
   ]
  },
  {
   "cell_type": "markdown",
   "metadata": {},
   "source": [
    "## Estimating PCA components using density estimators.\n",
    "\n",
    "We can finally try to make new spectra from the old by taking the distribution of PCs that we derive from the spectral library and draw new PCs from these distributions. \n",
    "\n",
    "**Task**: Fit kernel density estimators to the distributions of each PC and draw a random spectrum. Does this give realistic looking spectra? Why? Why not?"
   ]
  },
  {
   "cell_type": "code",
   "execution_count": null,
   "metadata": {
    "collapsed": true
   },
   "outputs": [],
   "source": [
    "from sklearn.neighbors import KernelDensity"
   ]
  },
  {
   "cell_type": "code",
   "execution_count": null,
   "metadata": {
    "collapsed": true
   },
   "outputs": [],
   "source": []
  }
 ],
 "metadata": {
  "kernelspec": {
   "display_name": "Python 3",
   "language": "python",
   "name": "python3"
  },
  "language_info": {
   "codemirror_mode": {
    "name": "ipython",
    "version": 3
   },
   "file_extension": ".py",
   "mimetype": "text/x-python",
   "name": "python",
   "nbconvert_exporter": "python",
   "pygments_lexer": "ipython3",
   "version": "3.6.7"
  },
  "varInspector": {
   "cols": {
    "lenName": 16,
    "lenType": 16,
    "lenVar": 40
   },
   "kernels_config": {
    "python": {
     "delete_cmd_postfix": "",
     "delete_cmd_prefix": "del ",
     "library": "var_list.py",
     "varRefreshCmd": "print(var_dic_list())"
    },
    "r": {
     "delete_cmd_postfix": ") ",
     "delete_cmd_prefix": "rm(",
     "library": "var_list.r",
     "varRefreshCmd": "cat(var_dic_list()) "
    }
   },
   "types_to_exclude": [
    "module",
    "function",
    "builtin_function_or_method",
    "instance",
    "_Feature"
   ],
   "window_display": false
  }
 },
 "nbformat": 4,
 "nbformat_minor": 1
}
